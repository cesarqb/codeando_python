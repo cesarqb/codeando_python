{
 "cells": [
  {
   "cell_type": "code",
   "execution_count": 15,
   "metadata": {},
   "outputs": [
    {
     "name": "stdout",
     "output_type": "stream",
     "text": [
      "Código QR guardado como codigo_qr.png\n"
     ]
    }
   ],
   "source": [
    "import qrcode\n",
    "from PIL import Image\n",
    "\n",
    "def generar_y_mostrar_qr(texto, nombre_archivo):\n",
    "    try:\n",
    "        # Crear el objeto del código QR\n",
    "        qr = qrcode.QRCode(\n",
    "            version=1,  # Controla el tamaño del QR (1 es el más pequeño)\n",
    "            error_correction=qrcode.constants.ERROR_CORRECT_L,  # Nivel de corrección de errores\n",
    "            box_size=10,  # Tamaño de cada \"caja\" del QR\n",
    "            border=4,  # Tamaño del borde del QR\n",
    "        )\n",
    "        qr.add_data(texto)  # Añadir datos al QR\n",
    "        qr.make(fit=True)\n",
    "\n",
    "        # Generar la imagen del código QR\n",
    "        imagen = qr.make_image(fill_color=\"black\", back_color=\"white\")\n",
    "\n",
    "        # Guardar el código QR en un archivo\n",
    "        imagen.save(nombre_archivo)\n",
    "        print(f\"Código QR guardado como {nombre_archivo}\")\n",
    "\n",
    "        # Mostrar el código QR\n",
    "        imagen.show()  # Abre el QR en el visor de imágenes predeterminado\n",
    "    except Exception as e:\n",
    "        print(f\"Ha ocurrido un error: {e}\")\n",
    "\n",
    "# Ejemplo de uso\n",
    "texto = \"https://www.facebook.com/profile.php?id=61567996512868\"  # Texto o enlace a codificar\n",
    "nombre_archivo = \"codigo_qr.png\"\n",
    "generar_y_mostrar_qr(texto, nombre_archivo)\n"
   ]
  },
  {
   "cell_type": "code",
   "execution_count": null,
   "metadata": {},
   "outputs": [],
   "source": []
  }
 ],
 "metadata": {
  "kernelspec": {
   "display_name": "Python 3",
   "language": "python",
   "name": "python3"
  },
  "language_info": {
   "codemirror_mode": {
    "name": "ipython",
    "version": 3
   },
   "file_extension": ".py",
   "mimetype": "text/x-python",
   "name": "python",
   "nbconvert_exporter": "python",
   "pygments_lexer": "ipython3",
   "version": "3.11.9"
  }
 },
 "nbformat": 4,
 "nbformat_minor": 2
}
